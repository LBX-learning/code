{
 "cells": [
  {
   "cell_type": "markdown",
   "id": "688c2c55-1f50-4cdf-944e-f131f1ad545d",
   "metadata": {
    "execution": {
     "iopub.execute_input": "2023-08-30T08:00:58.083205Z",
     "iopub.status.busy": "2023-08-30T08:00:58.083205Z",
     "iopub.status.idle": "2023-08-30T08:00:58.095433Z",
     "shell.execute_reply": "2023-08-30T08:00:58.093328Z",
     "shell.execute_reply.started": "2023-08-30T08:00:58.083205Z"
    }
   },
   "source": [
    "**问题一：如果不编码，直接使用字符，比如S/C/Q，机器学习算法能识别吗？**\n",
    "- 答：大多数机器学习算法不能直接处理分类字符变量。它们需要数值型输入。因此，通常我们需要对这些字符变量进行编码。"
   ]
  },
  {
   "cell_type": "markdown",
   "id": "f950578f-32e0-4280-8246-7bdb6d78510b",
   "metadata": {
    "execution": {
     "iopub.execute_input": "2023-08-30T08:00:58.083205Z",
     "iopub.status.busy": "2023-08-30T08:00:58.083205Z",
     "iopub.status.idle": "2023-08-30T08:00:58.095433Z",
     "shell.execute_reply": "2023-08-30T08:00:58.093328Z",
     "shell.execute_reply.started": "2023-08-30T08:00:58.083205Z"
    }
   },
   "source": [
    "**问题二：使用普通的编码与独热编码有什么区别？**\n",
    "- **标签编码可能会在某些算法中引入一个假设的序数关系**，即1 < 2 < 3，但实际上S, C, Q之间可能并没有这种关系。\r",
    "-  独热编码不会引入这种假设的序数关系，但会增加数据的维度。"
   ]
  },
  {
   "cell_type": "markdown",
   "id": "26d77ad8-be91-4b2b-a48e-915f2b47ce39",
   "metadata": {
    "execution": {
     "iopub.execute_input": "2023-08-30T08:00:58.083205Z",
     "iopub.status.busy": "2023-08-30T08:00:58.083205Z",
     "iopub.status.idle": "2023-08-30T08:00:58.095433Z",
     "shell.execute_reply": "2023-08-30T08:00:58.093328Z",
     "shell.execute_reply.started": "2023-08-30T08:00:58.083205Z"
    }
   },
   "source": [
    "**问题三：使用普通的编码，一般的模型是否只能识别为数值型特征，而不是分类型，必须要用独热编码？**\n",
    "- 当我们使用标签编码时，模型会将这些特征视为数值型特征，而不是分类特征。这可能会导致在某些算法（尤其是基于距离的算法）中出现问题，因为算法可能会假设这些数字之间存在某种序数关系。而独热编码则避免了这种问题。"
   ]
  },
  {
   "cell_type": "markdown",
   "id": "0bba2d3c-8886-40c1-b8eb-1d7cfe55e5a5",
   "metadata": {
    "execution": {
     "iopub.execute_input": "2023-08-30T08:05:05.233085Z",
     "iopub.status.busy": "2023-08-30T08:05:05.233085Z",
     "iopub.status.idle": "2023-08-30T08:05:05.239379Z",
     "shell.execute_reply": "2023-08-30T08:05:05.238342Z",
     "shell.execute_reply.started": "2023-08-30T08:05:05.233085Z"
    }
   },
   "source": [
    "## 1. 数据清洗"
   ]
  },
  {
   "cell_type": "code",
   "execution_count": 3,
   "id": "fcbdb7fe-1968-48e9-9cd8-bd8719326a68",
   "metadata": {
    "execution": {
     "iopub.execute_input": "2023-08-30T08:05:43.120855Z",
     "iopub.status.busy": "2023-08-30T08:05:43.119737Z",
     "iopub.status.idle": "2023-08-30T08:05:45.255054Z",
     "shell.execute_reply": "2023-08-30T08:05:45.255054Z",
     "shell.execute_reply.started": "2023-08-30T08:05:43.120855Z"
    }
   },
   "outputs": [
    {
     "name": "stderr",
     "output_type": "stream",
     "text": [
      "C:\\Users\\hp\\AppData\\Roaming\\Python\\Python311\\site-packages\\openpyxl\\styles\\stylesheet.py:226: UserWarning: Workbook contains no default style, apply openpyxl's default\n",
      "  warn(\"Workbook contains no default style, apply openpyxl's default\")\n"
     ]
    },
    {
     "data": {
      "text/plain": [
       "(Embarked    0\n",
       " Fare        0\n",
       " dtype: int64,\n",
       "   Embarked     Fare\n",
       " 0        S   7.2500\n",
       " 1        C  71.2833\n",
       " 2        S   7.9250\n",
       " 3        S  53.1000\n",
       " 4        S   8.0500)"
      ]
     },
     "execution_count": 3,
     "metadata": {},
     "output_type": "execute_result"
    }
   ],
   "source": [
    "import pandas as pd\n",
    "# Load the dataset\n",
    "titanic_data = pd.read_excel(r\"C:\\Users\\hp\\Desktop\\泰坦尼克号.xlsx\")\n",
    "titanic_data_cleaned = titanic_data.drop(columns=['Cabin'])\n",
    "titanic_data_cleaned['Age'] = titanic_data_cleaned['Age'].fillna(titanic_data_cleaned['Age'].median())\n",
    "titanic_data_cleaned['Embarked'] = titanic_data_cleaned['Embarked'].fillna(titanic_data_cleaned['Embarked'].mode()[0])\n",
    "titanic_data_cleaned = titanic_data_cleaned[['Embarked', 'Fare']]\n",
    "titanic_data_cleaned.isnull().sum(), titanic_data_cleaned.head()"
   ]
  },
  {
   "cell_type": "markdown",
   "id": "b67e306d-95af-4c88-a21f-b6c4212155ae",
   "metadata": {
    "execution": {
     "iopub.execute_input": "2023-08-30T08:06:03.213930Z",
     "iopub.status.busy": "2023-08-30T08:06:03.213930Z",
     "iopub.status.idle": "2023-08-30T08:06:03.219139Z",
     "shell.execute_reply": "2023-08-30T08:06:03.217867Z",
     "shell.execute_reply.started": "2023-08-30T08:06:03.213930Z"
    }
   },
   "source": [
    "## 2.如果不编码，直接使用字符，比如S/C/Q，机器学习算法能识别吗？"
   ]
  },
  {
   "cell_type": "code",
   "execution_count": 5,
   "id": "03a99866-0ad7-4c2c-bbfe-78e94bf418a0",
   "metadata": {
    "execution": {
     "iopub.execute_input": "2023-08-30T08:06:17.298584Z",
     "iopub.status.busy": "2023-08-30T08:06:17.298584Z",
     "iopub.status.idle": "2023-08-30T08:06:34.405006Z",
     "shell.execute_reply": "2023-08-30T08:06:34.405006Z",
     "shell.execute_reply.started": "2023-08-30T08:06:17.298584Z"
    }
   },
   "outputs": [
    {
     "data": {
      "text/plain": [
       "(\"could not convert string to float: 'S'\", None)"
      ]
     },
     "execution_count": 5,
     "metadata": {},
     "output_type": "execute_result"
    }
   ],
   "source": [
    "from sklearn.linear_model import LinearRegression\n",
    "from sklearn.model_selection import train_test_split\n",
    "from sklearn.metrics import mean_squared_error\n",
    "\n",
    "X = titanic_data_cleaned[['Embarked']]\n",
    "y = titanic_data_cleaned['Fare']\n",
    "X_train, X_test, y_train, y_test = train_test_split(X, y, test_size=0.2, random_state=42)\n",
    "\n",
    "try:\n",
    "    lr = LinearRegression()\n",
    "    lr.fit(X_train, y_train)\n",
    "    y_pred = lr.predict(X_test)\n",
    "    mse = mean_squared_error(y_test, y_pred)\n",
    "except Exception as e:\n",
    "    error_message = str(e)\n",
    "    mse = None\n",
    "error_message, mse"
   ]
  },
  {
   "cell_type": "markdown",
   "id": "cb3f70ec-5f27-440e-87e0-663268f93368",
   "metadata": {
    "execution": {
     "iopub.execute_input": "2023-08-30T08:06:38.211233Z",
     "iopub.status.busy": "2023-08-30T08:06:38.210229Z",
     "iopub.status.idle": "2023-08-30T08:06:38.217304Z",
     "shell.execute_reply": "2023-08-30T08:06:38.216300Z",
     "shell.execute_reply.started": "2023-08-30T08:06:38.210229Z"
    }
   },
   "source": [
    "- 如我们所料，当我们尝试使用未编码的“Embarked”列时，线性回归模型报告了错误，因为它不能处理字符串数据。\n",
    "- 错误信息是：“could not convert string to float: 'S'”。"
   ]
  },
  {
   "cell_type": "markdown",
   "id": "401babe0-911e-4b8d-959d-80afcc7a831a",
   "metadata": {
    "execution": {
     "iopub.execute_input": "2023-08-30T08:07:01.778782Z",
     "iopub.status.busy": "2023-08-30T08:07:01.778782Z",
     "iopub.status.idle": "2023-08-30T08:07:01.784069Z",
     "shell.execute_reply": "2023-08-30T08:07:01.783017Z",
     "shell.execute_reply.started": "2023-08-30T08:07:01.778782Z"
    }
   },
   "source": [
    "## 3.使用常规机器学习算法，使用常规编码"
   ]
  },
  {
   "cell_type": "code",
   "execution_count": 8,
   "id": "169606c8-b379-4fb1-a690-9f761faa059d",
   "metadata": {
    "execution": {
     "iopub.execute_input": "2023-08-30T08:07:13.974597Z",
     "iopub.status.busy": "2023-08-30T08:07:13.968913Z",
     "iopub.status.idle": "2023-08-30T08:07:14.107750Z",
     "shell.execute_reply": "2023-08-30T08:07:14.106748Z",
     "shell.execute_reply.started": "2023-08-30T08:07:13.974597Z"
    }
   },
   "outputs": [
    {
     "data": {
      "text/plain": [
       "1397.3169194574098"
      ]
     },
     "execution_count": 8,
     "metadata": {},
     "output_type": "execute_result"
    }
   ],
   "source": [
    "from sklearn.preprocessing import LabelEncoder\n",
    "label_encoder = LabelEncoder()\n",
    "titanic_data_cleaned['Embarked_encoded'] = label_encoder.fit_transform(titanic_data_cleaned['Embarked'])\n",
    "X_encoded = titanic_data_cleaned[['Embarked_encoded']]\n",
    "X_train_encoded, X_test_encoded, y_train, y_test = train_test_split(X_encoded, y, test_size=0.2, random_state=42)\n",
    "lr_encoded = LinearRegression()\n",
    "lr_encoded.fit(X_train_encoded, y_train)\n",
    "y_pred_encoded = lr_encoded.predict(X_test_encoded)\n",
    "mse_encoded = mean_squared_error(y_test, y_pred_encoded)\n",
    "mse_encoded"
   ]
  },
  {
   "cell_type": "markdown",
   "id": "20d020f9-1643-462e-b728-af091c146c18",
   "metadata": {
    "execution": {
     "iopub.execute_input": "2023-08-30T08:07:01.778782Z",
     "iopub.status.busy": "2023-08-30T08:07:01.778782Z",
     "iopub.status.idle": "2023-08-30T08:07:01.784069Z",
     "shell.execute_reply": "2023-08-30T08:07:01.783017Z",
     "shell.execute_reply.started": "2023-08-30T08:07:01.778782Z"
    }
   },
   "source": [
    "## 3.使用常规机器学习算法，使用独热编码"
   ]
  },
  {
   "cell_type": "code",
   "execution_count": 9,
   "id": "722f3168-e1e9-48d1-8ba3-0a1e9400abb9",
   "metadata": {
    "execution": {
     "iopub.execute_input": "2023-08-30T08:07:35.509853Z",
     "iopub.status.busy": "2023-08-30T08:07:35.509853Z",
     "iopub.status.idle": "2023-08-30T08:07:35.540740Z",
     "shell.execute_reply": "2023-08-30T08:07:35.540740Z",
     "shell.execute_reply.started": "2023-08-30T08:07:35.509853Z"
    }
   },
   "outputs": [
    {
     "data": {
      "text/plain": [
       "1320.5549858205027"
      ]
     },
     "execution_count": 9,
     "metadata": {},
     "output_type": "execute_result"
    }
   ],
   "source": [
    "# Use one-hot encoding for 'Embarked' column\n",
    "embarked_onehot = pd.get_dummies(titanic_data_cleaned['Embarked'], prefix='Embarked')\n",
    "titanic_data_onehot = pd.concat([titanic_data_cleaned, embarked_onehot], axis=1)\n",
    "# Split the data into training and testing sets again\n",
    "X_onehot = titanic_data_onehot[['Embarked_C', 'Embarked_Q', 'Embarked_S']]\n",
    "X_train_onehot, X_test_onehot, y_train, y_test = train_test_split(X_onehot, y, test_size=0.2, random_state=42)\n",
    "# Fit a linear regression model with one-hot encoded 'Embarked'\n",
    "lr_onehot = LinearRegression()\n",
    "lr_onehot.fit(X_train_onehot, y_train)\n",
    "y_pred_onehot = lr_onehot.predict(X_test_onehot)\n",
    "mse_onehot = mean_squared_error(y_test, y_pred_onehot)\n",
    "mse_onehot"
   ]
  },
  {
   "cell_type": "markdown",
   "id": "e57f17d7-6c78-4c6d-b0ad-084542bbce0c",
   "metadata": {},
   "source": [
    "- 使用独热编码后，我们得到的均方误差 (MSE) 为 1320.51，这比使用标签编码时的MSE略小。"
   ]
  },
  {
   "cell_type": "markdown",
   "id": "fae0b738-9c88-4e30-9882-5a671ffbc33f",
   "metadata": {
    "execution": {
     "iopub.execute_input": "2023-08-30T08:07:59.263582Z",
     "iopub.status.busy": "2023-08-30T08:07:59.262579Z",
     "iopub.status.idle": "2023-08-30T08:07:59.268009Z",
     "shell.execute_reply": "2023-08-30T08:07:59.266762Z",
     "shell.execute_reply.started": "2023-08-30T08:07:59.262579Z"
    }
   },
   "source": [
    "## 4.使用集成学习算法，使用常规编码"
   ]
  },
  {
   "cell_type": "code",
   "execution_count": 11,
   "id": "102be5fb-b6bf-47dd-9295-0b25b1176f16",
   "metadata": {
    "execution": {
     "iopub.execute_input": "2023-08-30T08:08:07.492026Z",
     "iopub.status.busy": "2023-08-30T08:08:07.492026Z",
     "iopub.status.idle": "2023-08-30T08:08:16.756630Z",
     "shell.execute_reply": "2023-08-30T08:08:16.755627Z",
     "shell.execute_reply.started": "2023-08-30T08:08:07.492026Z"
    }
   },
   "outputs": [
    {
     "data": {
      "text/plain": [
       "1320.6125260638626"
      ]
     },
     "execution_count": 11,
     "metadata": {},
     "output_type": "execute_result"
    }
   ],
   "source": [
    "from sklearn.ensemble import RandomForestRegressor\n",
    "# Fit a random forest regressor with label encoded 'Embarked'\n",
    "rf_encoded = RandomForestRegressor(random_state=42)\n",
    "rf_encoded.fit(X_train_encoded, y_train)\n",
    "y_pred_rf_encoded = rf_encoded.predict(X_test_encoded)\n",
    "mse_rf_encoded = mean_squared_error(y_test, y_pred_rf_encoded)\n",
    "mse_rf_encoded"
   ]
  },
  {
   "cell_type": "markdown",
   "id": "33b91ecb-040a-4baf-a4aa-ca66fb20c182",
   "metadata": {
    "execution": {
     "iopub.execute_input": "2023-08-30T08:07:59.263582Z",
     "iopub.status.busy": "2023-08-30T08:07:59.262579Z",
     "iopub.status.idle": "2023-08-30T08:07:59.268009Z",
     "shell.execute_reply": "2023-08-30T08:07:59.266762Z",
     "shell.execute_reply.started": "2023-08-30T08:07:59.262579Z"
    }
   },
   "source": [
    "## 4.使用集成学习算法，使用独热编码"
   ]
  },
  {
   "cell_type": "code",
   "execution_count": 13,
   "id": "de401836-91c4-48a5-ae23-ef90ae8e9ac1",
   "metadata": {
    "execution": {
     "iopub.execute_input": "2023-08-30T08:08:39.350046Z",
     "iopub.status.busy": "2023-08-30T08:08:39.350046Z",
     "iopub.status.idle": "2023-08-30T08:08:39.492270Z",
     "shell.execute_reply": "2023-08-30T08:08:39.486841Z",
     "shell.execute_reply.started": "2023-08-30T08:08:39.350046Z"
    },
    "jp-MarkdownHeadingCollapsed": true
   },
   "outputs": [
    {
     "data": {
      "text/plain": [
       "1320.6125260638626"
      ]
     },
     "execution_count": 13,
     "metadata": {},
     "output_type": "execute_result"
    }
   ],
   "source": [
    "# Fit a random forest regressor with one-hot encoded 'Embarked'\n",
    "rf_onehot = RandomForestRegressor(random_state=42)\n",
    "rf_onehot.fit(X_train_onehot, y_train)\n",
    "y_pred_rf_onehot = rf_onehot.predict(X_test_onehot)\n",
    "mse_rf_onehot = mean_squared_error(y_test, y_pred_rf_onehot)\n",
    "mse_rf_onehot"
   ]
  },
  {
   "cell_type": "markdown",
   "id": "79fbbb78-b119-4033-b7e1-08c78f13b1c0",
   "metadata": {
    "execution": {
     "iopub.execute_input": "2023-08-30T08:08:57.163550Z",
     "iopub.status.busy": "2023-08-30T08:08:57.163550Z",
     "iopub.status.idle": "2023-08-30T08:08:57.169447Z",
     "shell.execute_reply": "2023-08-30T08:08:57.168393Z",
     "shell.execute_reply.started": "2023-08-30T08:08:57.163550Z"
    }
   },
   "source": [
    "## 5. 总结"
   ]
  },
  {
   "cell_type": "markdown",
   "id": "58218cfb-e41c-4a23-8f8e-60bc792768a7",
   "metadata": {
    "execution": {
     "iopub.execute_input": "2023-08-30T08:09:01.652748Z",
     "iopub.status.busy": "2023-08-30T08:09:01.643765Z",
     "iopub.status.idle": "2023-08-30T08:09:01.660232Z",
     "shell.execute_reply": "2023-08-30T08:09:01.658221Z",
     "shell.execute_reply.started": "2023-08-30T08:09:01.652748Z"
    }
   },
   "source": [
    "    线性回归（标签编码）: MSE = 1397.32\n",
    "    线性回归（独热编码）: MSE = 1320.51\n",
    "    随机森林（标签编码）: MSE = 1320.61\n",
    "    随机森林（独热编码）: MSE = 1320.61"
   ]
  },
  {
   "cell_type": "code",
   "execution_count": null,
   "id": "7e575852-0632-4c4b-96f2-78a9d9d1fdf7",
   "metadata": {},
   "outputs": [],
   "source": [
    "- 机器学习算法不能识别字符格式数据\n",
    "- 常规机器学习算法会把普通编码当做有序数据，使得效果变差\n",
    "- 集成学习算法在两种编码情况下的预测效果完全一样\n",
    "*"
   ]
  }
 ],
 "metadata": {
  "kernelspec": {
   "display_name": "Python 3 (ipykernel)",
   "language": "python",
   "name": "python3"
  },
  "language_info": {
   "codemirror_mode": {
    "name": "ipython",
    "version": 3
   },
   "file_extension": ".py",
   "mimetype": "text/x-python",
   "name": "python",
   "nbconvert_exporter": "python",
   "pygments_lexer": "ipython3",
   "version": "3.11.4"
  }
 },
 "nbformat": 4,
 "nbformat_minor": 5
}

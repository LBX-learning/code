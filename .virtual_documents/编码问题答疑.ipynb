











import pandas as pd
# Load the dataset
titanic_data = pd.read_excel("data/泰坦尼克号.xlsx")
titanic_data_cleaned = titanic_data.drop(columns=['Cabin'])
titanic_data_cleaned['Age'] = titanic_data_cleaned['Age'].fillna(titanic_data_cleaned['Age'].median())
titanic_data_cleaned['Embarked'] = titanic_data_cleaned['Embarked'].fillna(titanic_data_cleaned['Embarked'].mode()[0])
titanic_data_cleaned = titanic_data_cleaned[['Embarked', 'Fare']]
titanic_data_cleaned.isnull().sum(), titanic_data_cleaned.head()





from sklearn.linear_model import LinearRegression
from sklearn.model_selection import train_test_split
from sklearn.metrics import mean_squared_error

X = titanic_data_cleaned[['Embarked']]
y = titanic_data_cleaned['Fare']
X_train, X_test, y_train, y_test = train_test_split(X, y, test_size=0.2, random_state=42)

try:
    lr = LinearRegression()
    lr.fit(X_train, y_train)
    y_pred = lr.predict(X_test)
    mse = mean_squared_error(y_test, y_pred)
except Exception as e:
    error_message = str(e)
    mse = None
error_message, mse








from sklearn.preprocessing import LabelEncoder
label_encoder = LabelEncoder()
titanic_data_cleaned['Embarked_encoded'] = label_encoder.fit_transform(titanic_data_cleaned['Embarked'])
X_encoded = titanic_data_cleaned[['Embarked_encoded']]
X_train_encoded, X_test_encoded, y_train, y_test = train_test_split(X_encoded, y, test_size=0.2, random_state=42)
lr_encoded = LinearRegression()
lr_encoded.fit(X_train_encoded, y_train)
y_pred_encoded = lr_encoded.predict(X_test_encoded)
mse_encoded = mean_squared_error(y_test, y_pred_encoded)
mse_encoded





# Use one-hot encoding for 'Embarked' column
embarked_onehot = pd.get_dummies(titanic_data_cleaned['Embarked'], prefix='Embarked')
titanic_data_onehot = pd.concat([titanic_data_cleaned, embarked_onehot], axis=1)
# Split the data into training and testing sets again
X_onehot = titanic_data_onehot[['Embarked_C', 'Embarked_Q', 'Embarked_S']]
X_train_onehot, X_test_onehot, y_train, y_test = train_test_split(X_onehot, y, test_size=0.2, random_state=42)
# Fit a linear regression model with one-hot encoded 'Embarked'
lr_onehot = LinearRegression()
lr_onehot.fit(X_train_onehot, y_train)
y_pred_onehot = lr_onehot.predict(X_test_onehot)
mse_onehot = mean_squared_error(y_test, y_pred_onehot)
mse_onehot








from sklearn.ensemble import RandomForestRegressor
# Fit a random forest regressor with label encoded 'Embarked'
rf_encoded = RandomForestRegressor(random_state=42)
rf_encoded.fit(X_train_encoded, y_train)
y_pred_rf_encoded = rf_encoded.predict(X_test_encoded)
mse_rf_encoded = mean_squared_error(y_test, y_pred_rf_encoded)
mse_rf_encoded





# Fit a random forest regressor with one-hot encoded 'Embarked'
rf_onehot = RandomForestRegressor(random_state=42)
rf_onehot.fit(X_train_onehot, y_train)
y_pred_rf_onehot = rf_onehot.predict(X_test_onehot)
mse_rf_onehot = mean_squared_error(y_test, y_pred_rf_onehot)
mse_rf_onehot








- 机器学习算法不能识别字符格式数据
- 常规机器学习算法会把普通编码当做有序数据，使得效果变差
- 集成学习算法在两种编码情况下的预测效果完全一样
*
